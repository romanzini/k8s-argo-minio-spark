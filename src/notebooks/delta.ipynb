{
 "cells": [
  {
   "cell_type": "code",
   "execution_count": 1,
   "id": "d9551eb9-5a1a-4387-adf1-2e6642886eca",
   "metadata": {},
   "outputs": [],
   "source": [
    "from pyspark.sql import SparkSession\n",
    "from pyspark.sql.types import StructType, StructField, StringType, FloatType\n",
    "\n",
    "from delta import *"
   ]
  },
  {
   "cell_type": "code",
   "execution_count": 2,
   "id": "ee891243-18c9-44e7-8a21-d7713ea12b15",
   "metadata": {},
   "outputs": [
    {
     "name": "stdout",
     "output_type": "stream",
     "text": [
      ":: loading settings :: url = jar:file:/app/.venv/lib/python3.11/site-packages/pyspark/jars/ivy-2.5.1.jar!/org/apache/ivy/core/settings/ivysettings.xml\n"
     ]
    },
    {
     "name": "stderr",
     "output_type": "stream",
     "text": [
      "Ivy Default Cache set to: /root/.ivy2/cache\n",
      "The jars for the packages stored in: /root/.ivy2/jars\n",
      "io.delta#delta-core_2.12 added as a dependency\n",
      ":: resolving dependencies :: org.apache.spark#spark-submit-parent-b7f37525-2cb3-4e37-b5b3-0db84a1f0fa8;1.0\n",
      "\tconfs: [default]\n",
      "\tfound io.delta#delta-core_2.12;2.4.0 in central\n",
      "\tfound io.delta#delta-storage;2.4.0 in central\n",
      "\tfound org.antlr#antlr4-runtime;4.9.3 in central\n",
      "downloading https://repo1.maven.org/maven2/io/delta/delta-core_2.12/2.4.0/delta-core_2.12-2.4.0.jar ...\n",
      "\t[SUCCESSFUL ] io.delta#delta-core_2.12;2.4.0!delta-core_2.12.jar (1650ms)\n",
      "downloading https://repo1.maven.org/maven2/io/delta/delta-storage/2.4.0/delta-storage-2.4.0.jar ...\n",
      "\t[SUCCESSFUL ] io.delta#delta-storage;2.4.0!delta-storage.jar (373ms)\n",
      "downloading https://repo1.maven.org/maven2/org/antlr/antlr4-runtime/4.9.3/antlr4-runtime-4.9.3.jar ...\n",
      "\t[SUCCESSFUL ] org.antlr#antlr4-runtime;4.9.3!antlr4-runtime.jar (384ms)\n",
      ":: resolution report :: resolve 4593ms :: artifacts dl 2416ms\n",
      "\t:: modules in use:\n",
      "\tio.delta#delta-core_2.12;2.4.0 from central in [default]\n",
      "\tio.delta#delta-storage;2.4.0 from central in [default]\n",
      "\torg.antlr#antlr4-runtime;4.9.3 from central in [default]\n",
      "\t---------------------------------------------------------------------\n",
      "\t|                  |            modules            ||   artifacts   |\n",
      "\t|       conf       | number| search|dwnlded|evicted|| number|dwnlded|\n",
      "\t---------------------------------------------------------------------\n",
      "\t|      default     |   3   |   3   |   3   |   0   ||   3   |   3   |\n",
      "\t---------------------------------------------------------------------\n",
      ":: retrieving :: org.apache.spark#spark-submit-parent-b7f37525-2cb3-4e37-b5b3-0db84a1f0fa8\n",
      "\tconfs: [default]\n",
      "\t3 artifacts copied, 0 already retrieved (4537kB/23ms)\n",
      "24/09/19 01:32:06 WARN NativeCodeLoader: Unable to load native-hadoop library for your platform... using builtin-java classes where applicable\n",
      "Setting default log level to \"WARN\".\n",
      "To adjust logging level use sc.setLogLevel(newLevel). For SparkR, use setLogLevel(newLevel).\n"
     ]
    }
   ],
   "source": [
    "spark = (\n",
    "    SparkSession\n",
    "    .builder\n",
    "    .master(\"local[*]\")\n",
    "    .config(\"spark.jars.packages\", \"io.delta:delta-core_2.12:2.4.0\")\n",
    "    .config(\"spark.sql.extensions\", \"io.delta.sql.DeltaSparkSessionExtension\")\n",
    "    .config(\"spark.sql.catalog.spark_catalog\", \"org.apache.spark.sql.delta.catalog.DeltaCatalog\")\n",
    "    .getOrCreate()\n",
    ")"
   ]
  },
  {
   "cell_type": "code",
   "execution_count": 3,
   "id": "1b7020ec-2e34-4806-9176-eb42ceb3d268",
   "metadata": {},
   "outputs": [],
   "source": [
    "df = (\n",
    "    spark\n",
    "    .read\n",
    "    .option('delimiter', ',')\n",
    "    .option('header', 'true')\n",
    "    .option('inferSchema', 'true')\n",
    "    .option('encoding', 'ISO-8859-1')\n",
    "    .csv('./dados/demo.csv')\n",
    ")"
   ]
  },
  {
   "cell_type": "code",
   "execution_count": 4,
   "id": "89682a24-2cfe-4e47-988e-8c8f793b8c25",
   "metadata": {},
   "outputs": [
    {
     "name": "stdout",
     "output_type": "stream",
     "text": [
      "root\n",
      " |-- Nome: string (nullable = true)\n",
      " |-- Idade: integer (nullable = true)\n",
      " |-- Cidade: string (nullable = true)\n",
      "\n"
     ]
    }
   ],
   "source": [
    "df.printSchema()"
   ]
  },
  {
   "cell_type": "code",
   "execution_count": 5,
   "id": "60d9368c-ad34-438f-9fc4-35e4ce11eb8a",
   "metadata": {},
   "outputs": [],
   "source": [
    "df.createOrReplaceTempView('demos')"
   ]
  },
  {
   "cell_type": "code",
   "execution_count": 6,
   "id": "df537c46-25cc-411d-90cb-d760b0cefc91",
   "metadata": {},
   "outputs": [
    {
     "name": "stdout",
     "output_type": "stream",
     "text": [
      "+-----+-----+--------------+\n",
      "| Nome|Idade|        Cidade|\n",
      "+-----+-----+--------------+\n",
      "|  Ana|   28|    SÃ£o Paulo|\n",
      "|JoÃ£o|   34|Rio de Janeiro|\n",
      "|Maria|   29|      Curitiba|\n",
      "+-----+-----+--------------+\n",
      "\n"
     ]
    }
   ],
   "source": [
    "query = \"\"\"\n",
    "    SELECT * FROM demos\n",
    "\"\"\"\n",
    "spark.sql(query).show()"
   ]
  },
  {
   "cell_type": "code",
   "execution_count": 7,
   "id": "d1f19786-1f4e-46f8-b33c-7a33bc2b9dff",
   "metadata": {},
   "outputs": [],
   "source": [
    "df_B = (\n",
    "    spark\n",
    "    .read\n",
    "    .option('delimiter', ',')\n",
    "    .option('header', 'true')\n",
    "    .option('inferSchema', 'true')\n",
    "    .csv('./dados/dados_fake.csv')\n",
    ").createOrReplaceTempView('fakedata')"
   ]
  },
  {
   "cell_type": "code",
   "execution_count": 8,
   "id": "83ef9c50-d587-413b-bc9c-20c600facac8",
   "metadata": {},
   "outputs": [
    {
     "name": "stdout",
     "output_type": "stream",
     "text": [
      "+--------------------+--------------------+--------------------+------------------+--------------+-------------------+\n",
      "|       Nome Completo|            Endereço|               Email|Data de Nascimento|           CPF|           Telefone|\n",
      "+--------------------+--------------------+--------------------+------------------+--------------+-------------------+\n",
      "|   Sra. Lara Peixoto|Aeroporto Peixoto...| eloah47@hotmail.com|        1954-06-03|583.146.297-82|       81 6153 0345|\n",
      "| Srta. Heloísa Lopes|Colônia Luiz Feli...|martinsnicole@ig....|        1993-07-23|486.950.712-94|   +55 31 5061 9830|\n",
      "|   Benjamin Caldeira|Área Nicolas Azev...|ydas-neves@hotmai...|        1962-11-07|549.378.612-55|    (021) 2266 2974|\n",
      "|   Fernanda Monteiro|Lago da Cunha, 9,...|  dpereira@costa.com|        2009-12-06|142.378.695-55|    (031) 1566 0090|\n",
      "|       Gabriel Souza|Praia Enzo Castro...|leandro12@yahoo.c...|        2008-07-01|086.571.493-20|       61 2903 0267|\n",
      "|        Ana Monteiro|Colônia de Carval...|moraesjoao-gabrie...|        2021-07-24|517.286.430-07|   +55 61 7099 9920|\n",
      "|Luiz Fernando das...|Quadra Melissa So...|    natalia07@da.com|        1922-12-05|143.782.956-28|+55 (011) 1416 0163|\n",
      "|    Stella Rodrigues|Parque Carlos Edu...|  fviana@hotmail.com|        1988-04-01|954.203.816-05|+55 (021) 6901 9923|\n",
      "|          Yago Gomes|Praia Danilo Corr...|maria-alice21@pin...|        1997-09-20|521.930.678-21|+55 (084) 3220-2429|\n",
      "|   Ana Luiza da Cruz|Rua de Moraes, 27...|  ycosta@hotmail.com|        1940-08-07|034.567.189-93|      0800 116 2572|\n",
      "|        Cauã Moreira|Jardim Maria Clar...|ferreiraantonio@h...|        2007-11-09|590.236.874-00|       71 0438-9261|\n",
      "|    Leonardo Azevedo|Praia de Nascimen...|  peixotoluna@da.com|        2023-12-22|643.729.105-25|    (084) 0322 7382|\n",
      "|       Milena Santos|Via de Jesus, 72,...| ocardoso@castro.com|        1937-03-14|856.349.710-39|+55 (011) 5052 4073|\n",
      "|Dra. Alícia Caldeira|Condomínio de Via...|heitoroliveira@pe...|        2020-01-26|271.086.439-87|+55 (051) 5692-2560|\n",
      "|João Gabriel da Mota|Parque Emilly da ...|  ida-paz@bol.com.br|        2016-07-14|924.587.603-92|    (051) 1399 1509|\n",
      "|     Gabrielly Cunha|Esplanada Rezende...|mfernandes@bol.co...|        1936-06-01|746.183.259-09|+55 (061) 4239 6616|\n",
      "| Davi Lucca Teixeira|Trecho de Barbosa...|davi-luiz00@ig.co...|        1960-11-10|506.819.327-59|    (041) 7717-3175|\n",
      "|        Pietra Alves|Morro de Moura, 8...|    caua34@ig.com.br|        1941-01-01|351.426.709-06|   +55 71 5840-9283|\n",
      "| Luiz Fernando Pinto|Jardim de Fernand...|jda-costa@bol.com.br|        1976-08-21|659.710.384-00|   +55 51 7718 9803|\n",
      "|        Caio Cardoso|Jardim da Paz, 59...|joaquimcardoso@ya...|        1943-09-10|234.895.170-32|   +55 61 7018 7918|\n",
      "+--------------------+--------------------+--------------------+------------------+--------------+-------------------+\n",
      "only showing top 20 rows\n",
      "\n"
     ]
    }
   ],
   "source": [
    "query = \"\"\"\n",
    "    SELECT * FROM fakedata\n",
    "\"\"\"\n",
    "spark.sql(query).show()"
   ]
  },
  {
   "cell_type": "code",
   "execution_count": null,
   "id": "9e60a08f",
   "metadata": {},
   "outputs": [],
   "source": [
    "query = \"\"\"\n",
    "    CREATE TABLE tb_fake_people USING DELTA LOCATION '/poetry_delta_spark/delta/'\n",
    "    AS SELECT\n",
    "        `Nome Completo` AS nm_nomecompleto,\n",
    "        `Endereço` AS nm_endereco,\n",
    "        Email AS nm_email,\n",
    "        `Data de Nascimento` AS dt_nascimento,\n",
    "        CPF AS num_cpf,\n",
    "        Telefone AS num_tel\n",
    "       FROM fakedata\n",
    "\"\"\"\n",
    "spark.sql(query)"
   ]
  }
 ],
 "metadata": {
  "kernelspec": {
   "display_name": "Python 3 (ipykernel)",
   "language": "python",
   "name": "python3"
  },
  "language_info": {
   "codemirror_mode": {
    "name": "ipython",
    "version": 3
   },
   "file_extension": ".py",
   "mimetype": "text/x-python",
   "name": "python",
   "nbconvert_exporter": "python",
   "pygments_lexer": "ipython3",
   "version": "3.11.4"
  }
 },
 "nbformat": 4,
 "nbformat_minor": 5
}
