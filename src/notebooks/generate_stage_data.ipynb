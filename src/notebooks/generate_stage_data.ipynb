{
 "cells": [
  {
   "cell_type": "code",
   "execution_count": 1,
   "id": "8cec3df3-ca37-4364-acc3-ce2f3af70703",
   "metadata": {},
   "outputs": [
    {
     "name": "stdout",
     "output_type": "stream",
     "text": [
      ":: loading settings :: url = jar:file:/app/.venv/lib/python3.11/site-packages/pyspark/jars/ivy-2.5.1.jar!/org/apache/ivy/core/settings/ivysettings.xml\n"
     ]
    },
    {
     "name": "stderr",
     "output_type": "stream",
     "text": [
      "Ivy Default Cache set to: /root/.ivy2/cache\n",
      "The jars for the packages stored in: /root/.ivy2/jars\n",
      "org.apache.hadoop#hadoop-aws added as a dependency\n",
      "com.amazonaws#aws-java-sdk-bundle added as a dependency\n",
      ":: resolving dependencies :: org.apache.spark#spark-submit-parent-33c19e77-6ea1-4dd2-a7de-6c9c066ee78b;1.0\n",
      "\tconfs: [default]\n",
      "\tfound org.apache.hadoop#hadoop-aws;3.3.1 in central\n",
      "\tfound com.amazonaws#aws-java-sdk-bundle;1.11.901 in central\n",
      "\tfound org.wildfly.openssl#wildfly-openssl;1.0.7.Final in central\n",
      ":: resolution report :: resolve 399ms :: artifacts dl 4ms\n",
      "\t:: modules in use:\n",
      "\tcom.amazonaws#aws-java-sdk-bundle;1.11.901 from central in [default]\n",
      "\torg.apache.hadoop#hadoop-aws;3.3.1 from central in [default]\n",
      "\torg.wildfly.openssl#wildfly-openssl;1.0.7.Final from central in [default]\n",
      "\t---------------------------------------------------------------------\n",
      "\t|                  |            modules            ||   artifacts   |\n",
      "\t|       conf       | number| search|dwnlded|evicted|| number|dwnlded|\n",
      "\t---------------------------------------------------------------------\n",
      "\t|      default     |   3   |   0   |   0   |   0   ||   3   |   0   |\n",
      "\t---------------------------------------------------------------------\n",
      ":: retrieving :: org.apache.spark#spark-submit-parent-33c19e77-6ea1-4dd2-a7de-6c9c066ee78b\n",
      "\tconfs: [default]\n",
      "\t0 artifacts copied, 3 already retrieved (0kB/7ms)\n",
      "24/10/09 03:52:06 WARN NativeCodeLoader: Unable to load native-hadoop library for your platform... using builtin-java classes where applicable\n",
      "Setting default log level to \"WARN\".\n",
      "To adjust logging level use sc.setLogLevel(newLevel). For SparkR, use setLogLevel(newLevel).\n"
     ]
    }
   ],
   "source": [
    "from pyspark.sql import SparkSession\n",
    "\n",
    "# Criar uma SparkSession com as configurações para MinIO\n",
    "spark = (\n",
    "    SparkSession\n",
    "    .builder.appName(\"PySpark_Minio_Demo\")\n",
    "    .config(\"spark.jars.packages\", \"org.apache.hadoop:hadoop-aws:3.3.1,com.amazonaws:aws-java-sdk-bundle:1.11.901\") # dependencias do minio\n",
    "    .config(\"spark.hadoop.fs.s3a.endpoint\", \"http://dlkdataway-hl.storage:9000\") # caminho do service do minio no kubernetes\n",
    "    .config(\"spark.hadoop.fs.s3a.access.key\", \"WZOjGHQ2PMFQAixY7VzO\")\n",
    "    .config(\"spark.hadoop.fs.s3a.secret.key\", \"39OTdBH94gJ3E9pqQCpQxDDdOcYJzykf46Ry70nZ\")\n",
    "    .config(\"spark.hadoop.fs.s3a.path.style.access\", \"true\")\n",
    "    .config(\"spark.hadoop.fs.s3a.impl\", \"org.apache.hadoop.fs.s3a.S3AFileSystem\")\n",
    "    .config(\"spark.hadoop.mapreduce.job.metrics.exclude-types\", \"*\") # Evita o warning da não localização do hadoop-metrics\n",
    "    .config(\"spark.hadoop.mapreduce.fileoutputcommitter.algorithm.version\", \"2\") # Evita o warning Using standard FileOutputCommitter\n",
    "    .config(\"spark.hadoop.mapreduce.outputcommitter.factory.scheme.s3a\", \"org.apache.hadoop.fs.s3a.commit.S3ACommitterFactory\") # Evita o warning Using standard FileOutputCommitter\n",
    "    .config(\"spark.hadoop.fs.s3a.committer.name\", \"directory\") # ou 'partitioned' dependendo do caso\n",
    "    .config(\"spark.hadoop.fs.s3a.committer.magic.enabled\", \"true\") # Habilite 'true' se estiver usando magic committer\n",
    "    .getOrCreate()\n",
    ")"
   ]
  },
  {
   "cell_type": "code",
   "execution_count": 2,
   "id": "6e09c5a6-b5a2-4c3f-be12-6c00109a2bed",
   "metadata": {},
   "outputs": [],
   "source": [
    "# Exemplo de dados\n",
    "data = [(\"John\", 28), (\"Anna\", 23), (\"Tom\", 35)]\n",
    "columns = [\"Nome\", \"Idade\"]\n",
    "\n",
    "# Criar DataFrame a partir dos dados\n",
    "df = spark.createDataFrame(data, columns)\n",
    "\n",
    "# Caminho para o bucket do MinIO (usando a sintaxe s3a://)\n",
    "bucket_path = \"s3a://stage-sandbox01/teste2.csv\""
   ]
  },
  {
   "cell_type": "code",
   "execution_count": 3,
   "id": "85cd1ed2-a1ab-4b46-baca-42bde253cec8",
   "metadata": {},
   "outputs": [
    {
     "name": "stderr",
     "output_type": "stream",
     "text": [
      "24/10/09 03:52:22 WARN MetricsConfig: Cannot locate configuration: tried hadoop-metrics2-s3a-file-system.properties,hadoop-metrics2.properties\n",
      "24/10/09 03:52:30 WARN AbstractS3ACommitter: Task committer attempt_20241009035223576710473006160397_0000_m_000000_0: No pending uploads to commit\n"
     ]
    }
   ],
   "source": [
    "# Gravar o DataFrame como CSV no MinIO\n",
    "df.write.csv(bucket_path, mode=\"overwrite\", header=True)"
   ]
  },
  {
   "cell_type": "code",
   "execution_count": null,
   "id": "340ef8e8-8df2-440b-9811-2ce1817bcaff",
   "metadata": {},
   "outputs": [],
   "source": [
    "# Parar a sessão do Spark\n",
    "spark.stop()"
   ]
  }
 ],
 "metadata": {
  "kernelspec": {
   "display_name": "Python 3 (ipykernel)",
   "language": "python",
   "name": "python3"
  },
  "language_info": {
   "codemirror_mode": {
    "name": "ipython",
    "version": 3
   },
   "file_extension": ".py",
   "mimetype": "text/x-python",
   "name": "python",
   "nbconvert_exporter": "python",
   "pygments_lexer": "ipython3",
   "version": "3.11.4"
  }
 },
 "nbformat": 4,
 "nbformat_minor": 5
}
